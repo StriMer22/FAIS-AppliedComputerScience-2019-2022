{
 "cells": [
  {
   "cell_type": "markdown",
   "id": "3d8b4b91",
   "metadata": {},
   "source": [
    "# Skin segmentation"
   ]
  },
  {
   "cell_type": "markdown",
   "id": "200b21f2",
   "metadata": {},
   "source": [
    "In this assignement you will train classifier to assign colors to skin or no skin classes. The data is taken from [Skin Segmentation Data Set](http://archive.ics.uci.edu/ml/datasets/Skin+Segmentation#) in the UCI Machine Learning repository."
   ]
  },
  {
   "cell_type": "markdown",
   "id": "c054fe1f",
   "metadata": {},
   "source": [
    "The  data is in a plain text format and contains four columns. First three contain RGB color data  represented as integers in the range 0-255, and the last column is an integer label  with 1 representing skin and 2 representing no skin. This file we can load directly into a numpy array:"
   ]
  },
  {
   "cell_type": "code",
   "execution_count": 61,
   "id": "ff873a70",
   "metadata": {},
   "outputs": [],
   "source": [
    "import numpy as np\n",
    "import matplotlib.pyplot as plt\n",
    "import torch\n",
    "from torch import nn"
   ]
  },
  {
   "cell_type": "code",
   "execution_count": 62,
   "id": "9c4e2ab4",
   "metadata": {},
   "outputs": [],
   "source": [
    "data = np.loadtxt('Skin_NonSkin.txt')"
   ]
  },
  {
   "cell_type": "code",
   "execution_count": 63,
   "id": "5cc18ffe",
   "metadata": {},
   "outputs": [],
   "source": [
    "rgb  = data[:,:3].astype('float32')\n",
    "lbl = data[:,3].astype('float32') \n",
    "lbl = 2-lbl"
   ]
  },
  {
   "cell_type": "code",
   "execution_count": 64,
   "id": "9b518422",
   "metadata": {},
   "outputs": [
    {
     "data": {
      "text/plain": [
       "245057"
      ]
     },
     "execution_count": 64,
     "metadata": {},
     "output_type": "execute_result"
    }
   ],
   "source": [
    "len(data)"
   ]
  },
  {
   "cell_type": "code",
   "execution_count": 65,
   "id": "9aefecf1",
   "metadata": {},
   "outputs": [
    {
     "data": {
      "text/plain": [
       "array([194198,  50859], dtype=int64)"
      ]
     },
     "execution_count": 65,
     "metadata": {},
     "output_type": "execute_result"
    }
   ],
   "source": [
    "np.bincount(lbl.astype('int32'))"
   ]
  },
  {
   "cell_type": "markdown",
   "id": "a2fef54f",
   "metadata": {},
   "source": [
    "## Problem 1"
   ]
  },
  {
   "cell_type": "markdown",
   "id": "7bde4fdc",
   "metadata": {},
   "source": [
    "Train the neural network to distinguish skin from no skin colors. Calculate the accuracy on train and validation sets. Calculate true positives rate and false positives rate."
   ]
  },
  {
   "cell_type": "code",
   "execution_count": 66,
   "id": "ca9aad37",
   "metadata": {
    "tags": [
     "answer"
    ]
   },
   "outputs": [],
   "source": [
    "rgb_t = torch.from_numpy(rgb)\n",
    "lbl_t = torch.from_numpy(lbl).reshape(-1,1)"
   ]
  },
  {
   "cell_type": "code",
   "execution_count": 67,
   "id": "2b5d293b",
   "metadata": {
    "tags": [
     "answer"
    ]
   },
   "outputs": [],
   "source": [
    "dataset = torch.utils.data.TensorDataset(rgb_t, lbl_t)"
   ]
  },
  {
   "cell_type": "code",
   "execution_count": 68,
   "id": "d7d0ca1c",
   "metadata": {
    "tags": [
     "answer"
    ]
   },
   "outputs": [],
   "source": [
    "train_dataset, validation_dataset = torch.utils.data.random_split(dataset,(200000,45057))"
   ]
  },
  {
   "cell_type": "code",
   "execution_count": 69,
   "id": "bd023972",
   "metadata": {
    "tags": [
     "answer"
    ]
   },
   "outputs": [],
   "source": [
    "tb = np.bincount(train_dataset[:][1][:,0])"
   ]
  },
  {
   "cell_type": "code",
   "execution_count": 70,
   "id": "21cab559",
   "metadata": {
    "tags": [
     "answer"
    ]
   },
   "outputs": [
    {
     "data": {
      "text/plain": [
       "0.2629930409083446"
      ]
     },
     "execution_count": 70,
     "metadata": {},
     "output_type": "execute_result"
    }
   ],
   "source": [
    "tb[1]/tb[0]"
   ]
  },
  {
   "cell_type": "code",
   "execution_count": 71,
   "id": "7cf8a6be",
   "metadata": {
    "tags": [
     "answer"
    ]
   },
   "outputs": [],
   "source": [
    "vb = np.bincount(validation_dataset[:][1][:,0])"
   ]
  },
  {
   "cell_type": "code",
   "execution_count": 72,
   "id": "fa18ae3b",
   "metadata": {
    "tags": [
     "answer"
    ]
   },
   "outputs": [
    {
     "data": {
      "text/plain": [
       "0.25703046534984936"
      ]
     },
     "execution_count": 72,
     "metadata": {},
     "output_type": "execute_result"
    }
   ],
   "source": [
    "vb[1]/vb[0]"
   ]
  },
  {
   "cell_type": "code",
   "execution_count": 73,
   "id": "0905921a",
   "metadata": {
    "tags": [
     "answer"
    ]
   },
   "outputs": [],
   "source": [
    "train_dl = torch.utils.data.DataLoader(train_dataset, batch_size=128, shuffle=True)"
   ]
  },
  {
   "cell_type": "code",
   "execution_count": 74,
   "id": "74f0700f",
   "metadata": {
    "tags": [
     "answer"
    ]
   },
   "outputs": [],
   "source": [
    "model = nn.Sequential(nn.Linear(3,9), nn.ReLU(), nn.Linear(9,1))"
   ]
  },
  {
   "cell_type": "code",
   "execution_count": 75,
   "id": "f57f292d",
   "metadata": {
    "tags": [
     "answer"
    ]
   },
   "outputs": [],
   "source": [
    "loss_f = nn.BCEWithLogitsLoss()"
   ]
  },
  {
   "cell_type": "code",
   "execution_count": 76,
   "id": "886f76e0",
   "metadata": {
    "tags": [
     "answer"
    ]
   },
   "outputs": [],
   "source": [
    "opt = torch.optim.SGD(model.parameters(), lr=0.01)"
   ]
  },
  {
   "cell_type": "code",
   "execution_count": 77,
   "id": "55a52df4",
   "metadata": {},
   "outputs": [],
   "source": [
    "decreaseLr = torch.optim.lr_scheduler.ExponentialLR(opt, gamma=0.85)"
   ]
  },
  {
   "cell_type": "code",
   "execution_count": 78,
   "id": "976a052b",
   "metadata": {
    "tags": [
     "answer"
    ]
   },
   "outputs": [
    {
     "name": "stdout",
     "output_type": "stream",
     "text": [
      "epoch 0 loss 0.116057 vloss 0.114633 \n",
      "epoch 2 loss 0.069587 vloss 0.068751 \n",
      "epoch 4 loss 0.060037 vloss 0.059628 \n",
      "epoch 6 loss 0.056779 vloss 0.056752 \n",
      "epoch 8 loss 0.053278 vloss 0.053137 \n",
      "epoch 10 loss 0.049323 vloss 0.048323 \n",
      "epoch 12 loss 0.047352 vloss 0.046163 \n",
      "epoch 14 loss 0.043129 vloss 0.041925 \n",
      "epoch 16 loss 0.040284 vloss 0.039160 \n",
      "epoch 18 loss 0.038938 vloss 0.037835 \n",
      "Wall time: 2min 56s\n"
     ]
    }
   ],
   "source": [
    "%%time \n",
    "n_epoch = 20\n",
    "err_train = []\n",
    "err_valid = []\n",
    "for epoch in range(n_epoch):\n",
    "    for f,l in train_dl:\n",
    "        opt.zero_grad()\n",
    "        pred = model(f)\n",
    "        loss = loss_f(pred, l)\n",
    "        loss.backward()\n",
    "        opt.step()\n",
    "    with torch.no_grad():\n",
    "        vpred  = model(validation_dataset[:][0])\n",
    "        vloss  = loss_f(vpred,validation_dataset[:][1])\n",
    "        err_valid.append(vloss)\n",
    "        pred  = model(train_dataset[:][0])\n",
    "        loss  = loss_f(pred,train_dataset[:][1])\n",
    "        err_train.append(loss)\n",
    "    decreaseLr.step()\n",
    "    if epoch%2 == 0: print(\"epoch %d loss %f vloss %f \" % (epoch, loss, vloss))"
   ]
  },
  {
   "cell_type": "code",
   "execution_count": 82,
   "id": "3fc83a32",
   "metadata": {},
   "outputs": [
    {
     "data": {
      "text/plain": [
       "<matplotlib.legend.Legend at 0x1bae32db9a0>"
      ]
     },
     "execution_count": 82,
     "metadata": {},
     "output_type": "execute_result"
    },
    {
     "data": {
      "image/png": "[encoded data removed]",
      "text/plain": [
       "<Figure size 432x288 with 1 Axes>"
      ]
     },
     "metadata": {
      "needs_background": "light"
     },
     "output_type": "display_data"
    }
   ],
   "source": [
    "plt.plot(err_train, label='train')\n",
    "plt.plot(err_valid, label='valid')\n",
    "plt.legend()"
   ]
  },
  {
   "cell_type": "code",
   "execution_count": 80,
   "id": "c5e0954b",
   "metadata": {
    "tags": [
     "answer"
    ]
   },
   "outputs": [
    {
     "name": "stdout",
     "output_type": "stream",
     "text": [
      "Accuracy on train: tensor(0.9922)\n"
     ]
    }
   ],
   "source": [
    "with torch.no_grad():\n",
    "    pred = torch.sigmoid(model(train_dataset[:][0]))\n",
    "    acc = torch.mean( ((pred>0.5) == train_dataset[:][1].to(torch.int32)  ) * 1.0 )\n",
    "print(\"Accuracy on train:\", acc)"
   ]
  },
  {
   "cell_type": "code",
   "execution_count": 81,
   "id": "3f095ada",
   "metadata": {
    "tags": [
     "answer"
    ]
   },
   "outputs": [
    {
     "name": "stdout",
     "output_type": "stream",
     "text": [
      "Accuracy on valid: tensor(0.9925)\n"
     ]
    }
   ],
   "source": [
    "with torch.no_grad():\n",
    "    pred = torch.sigmoid(model(validation_dataset[:][0]))\n",
    "    acc = torch.mean( ((pred>0.5) == validation_dataset[:][1].to(torch.int32)  ) * 1.0 )\n",
    "print(\"Accuracy on valid:\", acc)"
   ]
  },
  {
   "cell_type": "code",
   "execution_count": null,
   "id": "3bf24ac3",
   "metadata": {},
   "outputs": [],
   "source": []
  }
 ],
 "metadata": {
  "jupytext": {
   "text_representation": {
    "extension": ".md",
    "format_name": "myst",
    "format_version": 0.13,
    "jupytext_version": "1.13.0"
   }
  },
  "kernelspec": {
   "display_name": "Python 3 (ipykernel)",
   "language": "python",
   "name": "python3"
  },
  "language_info": {
   "codemirror_mode": {
    "name": "ipython",
    "version": 3
   },
   "file_extension": ".py",
   "mimetype": "text/x-python",
   "name": "python",
   "nbconvert_exporter": "python",
   "pygments_lexer": "ipython3",
   "version": "3.8.10"
  }
 },
 "nbformat": 4,
 "nbformat_minor": 5
}

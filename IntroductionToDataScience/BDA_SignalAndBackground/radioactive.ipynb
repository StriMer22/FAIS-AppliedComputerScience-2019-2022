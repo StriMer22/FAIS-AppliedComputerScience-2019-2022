{
 "cells": [
  {
   "cell_type": "code",
   "execution_count": 1,
   "id": "1c77f833-37dc-44f8-9b00-79d636224410",
   "metadata": {},
   "outputs": [],
   "source": [
    "import numpy as np\n",
    "import scipy as sp\n",
    "from scipy.stats import poisson, gamma\n",
    "from scipy.special import gammaln as log_G, gamma as G, factorial as fac, logsumexp\n",
    "import matplotlib.pyplot as plt\n",
    "plt.rcParams[\"figure.figsize\"]=(12,8)\n"
   ]
  },
  {
   "cell_type": "markdown",
   "id": "902ee876-48f5-43f8-9273-4ba1a7e664f5",
   "metadata": {
    "tags": []
   },
   "source": [
    "# Radioactive decay"
   ]
  },
  {
   "cell_type": "markdown",
   "id": "89a2e49f-f9ee-4a23-96f8-bae7dd5b48a0",
   "metadata": {},
   "source": [
    "We will be investigating the measurment of the intensity of a radioactive source in the presence of the background nose. "
   ]
  },
  {
   "cell_type": "markdown",
   "id": "6a4bc4e8-27a5-45c3-a1eb-670e2e507510",
   "metadata": {},
   "source": [
    "## The model"
   ]
  },
  {
   "cell_type": "markdown",
   "id": "df75eed2-b494-4cc0-a904-bbe323a3bf93",
   "metadata": {},
   "source": [
    "The number of registered counts follows the Poisson distribution. For the background it is given by\n",
    "\n",
    "$$P(k|\\lambda_{b}) = e^{-\\lambda_{b}}\\frac{\\lambda_{b}^k }{k!}$$\n",
    "\n",
    "Where $\\lambda_b$ is the background intensity and $t$ is the length of the measurment period. In the following we will set $t=1s$. "
   ]
  },
  {
   "cell_type": "code",
   "execution_count": 2,
   "id": "25a97c8f-9d3a-4520-901c-fda0179c516f",
   "metadata": {},
   "outputs": [],
   "source": [
    "data_b = np.loadtxt('data_b.txt')"
   ]
  },
  {
   "cell_type": "code",
   "execution_count": 3,
   "id": "adbefa6b-d750-4b55-9d28-a64936411391",
   "metadata": {},
   "outputs": [
    {
     "data": {
      "text/plain": [
       "array([31., 33., 29., 39., 26., 21., 35., 34., 33., 35., 35., 21., 38.,\n",
       "       25., 36.])"
      ]
     },
     "execution_count": 3,
     "metadata": {},
     "output_type": "execute_result"
    }
   ],
   "source": [
    "data_b"
   ]
  },
  {
   "cell_type": "code",
   "execution_count": 4,
   "id": "0f6a98ea-8df7-4230-a264-a7bcc3459f9d",
   "metadata": {},
   "outputs": [
    {
     "data": {
      "text/plain": [
       "31.4"
      ]
     },
     "execution_count": 4,
     "metadata": {},
     "output_type": "execute_result"
    }
   ],
   "source": [
    "data_b.mean()"
   ]
  },
  {
   "cell_type": "markdown",
   "id": "de9f38cd-b288-4c8d-8f6a-de714fecc1d1",
   "metadata": {},
   "source": [
    "For source and background this given by \n",
    "$$P(k|\\lambda_{b}, \\lambda_{s}) = e^{-(\\lambda_{b}+\\lambda_{s})t}\\frac{(\\lambda_{b}+\\lambda_s)^k t^k}{k!}$$\n"
   ]
  },
  {
   "cell_type": "code",
   "execution_count": 5,
   "id": "df2bf26d-48f4-46fc-ab59-2cc72920df93",
   "metadata": {},
   "outputs": [],
   "source": [
    "data_b_s = np.loadtxt('data_b_s.txt')"
   ]
  },
  {
   "cell_type": "code",
   "execution_count": 6,
   "id": "a07e6443-9f3a-44d7-adfb-1dacdbd66c15",
   "metadata": {},
   "outputs": [
    {
     "data": {
      "text/plain": [
       "array([43., 43., 43., 51., 45., 37., 38., 48., 34., 41.])"
      ]
     },
     "execution_count": 6,
     "metadata": {},
     "output_type": "execute_result"
    }
   ],
   "source": [
    "data_b_s"
   ]
  },
  {
   "cell_type": "code",
   "execution_count": 7,
   "id": "e768f0de-d346-4cbf-914a-b9a24084f33b",
   "metadata": {},
   "outputs": [
    {
     "data": {
      "text/plain": [
       "42.3"
      ]
     },
     "execution_count": 7,
     "metadata": {},
     "output_type": "execute_result"
    }
   ],
   "source": [
    "data_b_s.mean()"
   ]
  },
  {
   "cell_type": "markdown",
   "id": "b78da1b1-5266-46c5-814a-cc8ef1c56c79",
   "metadata": {},
   "source": [
    "## Problem 1"
   ]
  },
  {
   "cell_type": "markdown",
   "id": "78eb81e4-ecb1-4700-8983-9b6681237e0b",
   "metadata": {},
   "source": [
    "### 1."
   ]
  },
  {
   "cell_type": "markdown",
   "id": "9d13c784-d40b-4b3f-9ac7-1317afcb8bcb",
   "metadata": {},
   "source": [
    "Write the formula for the  likelihood for the  background intensity measurments $k_1,\\ldots,k_{n_b}$. Assuming [Gamma](https://en.wikipedia.org/wiki/Gamma_distribution) distribution $\\Gamma(\\alpha, \\beta)$ for $\\lambda_b$ prior, write down  the formula for posterior distribution and MAP estimate of $\\lambda_b$. __Hint__ Gamma distribution is a conjugate prior to Poisson distribution. "
   ]
  },
  {
   "cell_type": "markdown",
   "id": "d6b46ae5",
   "metadata": {},
   "source": [
    "$$P((k_{1},...,k_{{n}_{b}}) |\\lambda_{b}) = P(k_{1}|\\lambda_{b}) \\times P(k_{2}|\\lambda_{b}) \\times ... \\times P(k_{{n}_{b}}|\\lambda_{b}) $$"
   ]
  },
  {
   "cell_type": "markdown",
   "id": "a0b9cb15",
   "metadata": {},
   "source": [
    "$$P((k_{1},...,k_{{n}_{b}}) |\\lambda_{b}) = \\prod_{i=1}^{n_{b}} P((k_{1},...,k_{{i}_{b}}) |\\lambda_{b}) =  \\prod_{i=1}^{n_{b}} \\lambda_{b}^{k_{{i}}}\\frac{e^{-\\lambda_{b}}}{k_{i}!} \\propto \\lambda_{b}^{\\sum_{i=1}^{n_{b}}k_{{i}}} e^{-n_{b}\\lambda_{b}} $$"
   ]
  },
  {
   "cell_type": "markdown",
   "id": "fcd01ceb",
   "metadata": {},
   "source": [
    "Posterior"
   ]
  },
  {
   "cell_type": "markdown",
   "id": "e040133c",
   "metadata": {},
   "source": [
    "$$P(\\lambda_{b}|(k_{1},...,k_{{n}_{b}})) = \\lambda_{b}^{\\alpha+{\\sum_{i=1}^{n_{b}}k_{{i}}}-1} e^{-(\\beta + n_{b})\\lambda_{b}}$$"
   ]
  },
  {
   "cell_type": "markdown",
   "id": "c0d7ab9c-26d6-4562-af8a-29a7bf4fea69",
   "metadata": {},
   "source": [
    "This is again Gamma distribution (conjugate prior!) but with  different parameters: $\\Gamma(\\alpha+K, \\beta+n_b)$. From [Wikipedia](https://en.wikipedia.org/wiki/Gamma_distributio) :) we find that the mode of $\\Gamma(\\alpha,\\beta)$ distribution is $\\frac{\\alpha-1}{\\beta}$ provided $\\alpha\\ge 1$. So finally MAP estimate is given by"
   ]
  },
  {
   "cell_type": "markdown",
   "id": "b0af7be5",
   "metadata": {},
   "source": [
    "$$\\frac {\\alpha + \\sum_{i=1}^{n_{b}}k_{{i}} - 1}{\\beta + n_{b}}$$"
   ]
  },
  {
   "cell_type": "markdown",
   "id": "a41b9ef6-b0b0-4547-a7e8-547ec2101bed",
   "metadata": {},
   "source": [
    "### 2."
   ]
  },
  {
   "cell_type": "markdown",
   "id": "1222d241-404e-46af-ae96-732ce17bb02c",
   "metadata": {},
   "source": [
    "Express $\\alpha$ and $\\beta$ by mean $\\mu$ and standard deviation $\\sigma$ of the distribution $\\Gamma(\\alpha,\\beta)$. "
   ]
  },
  {
   "cell_type": "markdown",
   "id": "d9a3a0c5",
   "metadata": {},
   "source": [
    "$$ \\alpha = \\frac {\\mu^{2}}{\\sigma^{2}}; \\beta = \\frac {\\mu}{\\sigma^{2}}$$"
   ]
  },
  {
   "cell_type": "markdown",
   "id": "66d760b0-6696-49e5-b47b-7ed96e5f787b",
   "metadata": {},
   "source": [
    "Assuming $\\mu=50$ and $\\sigma=70$ plot the prior and posterior distribution using provided background data and calculate the $\\lambda_b$ MAP estimate. __Hint__ Use Gamma distribution from `scipy.stats`."
   ]
  },
  {
   "cell_type": "code",
   "execution_count": 8,
   "id": "ffb3491d",
   "metadata": {},
   "outputs": [
    {
     "data": {
      "text/plain": [
       "[<matplotlib.lines.Line2D at 0x1816517c8b0>]"
      ]
     },
     "execution_count": 8,
     "metadata": {},
     "output_type": "execute_result"
    },
    {
     "data": {
      "image/png": "[encoded data removed]",
      "text/plain": [
       "<Figure size 864x576 with 1 Axes>"
      ]
     },
     "metadata": {
      "needs_background": "light"
     },
     "output_type": "display_data"
    }
   ],
   "source": [
    "alpha = pow(50 / 70, 2)\n",
    "beta = (50 / pow(70, 2))\n",
    "\n",
    "ls = np.linspace(0, 100, 500)\n",
    "\n",
    "plt.title(\"Prior distribution\")\n",
    "plt.plot(ls, gamma(a = alpha, scale = 1 / beta).pdf(ls))"
   ]
  },
  {
   "cell_type": "code",
   "execution_count": 9,
   "id": "c7c5a61d",
   "metadata": {},
   "outputs": [
    {
     "data": {
      "text/plain": [
       "[<matplotlib.lines.Line2D at 0x18167209250>]"
      ]
     },
     "execution_count": 9,
     "metadata": {},
     "output_type": "execute_result"
    },
    {
     "data": {
      "image/png": "[encoded data removed]",
      "text/plain": [
       "<Figure size 864x576 with 1 Axes>"
      ]
     },
     "metadata": {
      "needs_background": "light"
     },
     "output_type": "display_data"
    }
   ],
   "source": [
    "plt.title(\"Posterior distribution\")\n",
    "plt.plot(ls, gamma(a = alpha + sum(data_b), scale = 1 / (beta + len(data_b))).pdf(ls))"
   ]
  },
  {
   "cell_type": "code",
   "execution_count": 10,
   "id": "31d1b4ac",
   "metadata": {},
   "outputs": [
    {
     "name": "stdout",
     "output_type": "stream",
     "text": [
      "MAP:  31.34602311352821\n"
     ]
    }
   ],
   "source": [
    "print('MAP: ', (alpha + sum(data_b) - 1) / (beta + len(data_b)))"
   ]
  },
  {
   "cell_type": "markdown",
   "id": "6fc71e20-cde0-403f-a6b2-27be43eeb4b1",
   "metadata": {},
   "source": [
    "## Problem 2"
   ]
  },
  {
   "cell_type": "markdown",
   "id": "d8696371-19f0-46ce-8d64-b9a33a8ae309",
   "metadata": {},
   "source": [
    "### 1"
   ]
  },
  {
   "cell_type": "markdown",
   "id": "6b3450bd-9de1-4e98-b985-b7a54e0f13ec",
   "metadata": {},
   "source": [
    "Write the formula for the  likelihood for the  background intensity measurments $k_1,\\ldots,k_{n_b}$. Assuming a uniform distribution in the interval $(0,\\lambda_{b,max}]$ for the $\\lambda_b$ prior, write down  the formula for MAP estimate of $\\lambda_b$."
   ]
  },
  {
   "cell_type": "markdown",
   "id": "37435dbe",
   "metadata": {},
   "source": [
    "$$ L = \\log(\\prod_{i=1}^{n_{b}} e^{-\\lambda_{b}} \\frac{\\lambda^{{k}_{i}}_{b}}{k_{i}!}) = -n_{b}\\lambda_{b} + \\log (\\lambda_{b}) \\sum_{i=1}^{n_{b}}k_{{i}} - \\sum_{i=1}^{n_{b}} \\log(k_{i}!)$$"
   ]
  },
  {
   "cell_type": "markdown",
   "id": "3c90fb4a",
   "metadata": {},
   "source": [
    "MAP\n"
   ]
  },
  {
   "cell_type": "markdown",
   "id": "bfccd557",
   "metadata": {},
   "source": [
    "$$ \\frac {\\sum_{i=1}^{n_{b}}k_{{i}}}{n_{b}}"
   ]
  },
  {
   "cell_type": "markdown",
   "id": "08fc3094-ac18-489d-8e33-73dd100377f9",
   "metadata": {},
   "source": [
    "Assuming $\\lambda_{b,max}=100.0$ calculate the MAP estimate using all the measurments. What would happen if $\\lambda_{b,max}=20.0$ ?"
   ]
  },
  {
   "cell_type": "code",
   "execution_count": 11,
   "id": "80fbfee8",
   "metadata": {},
   "outputs": [],
   "source": [
    "def log_like(data, l):\n",
    "    log_like = -len(data) * l + data.sum() * np.log(l)\n",
    "    return log_like - log_like.max()"
   ]
  },
  {
   "cell_type": "code",
   "execution_count": 12,
   "id": "f71a2c13",
   "metadata": {},
   "outputs": [
    {
     "name": "stdout",
     "output_type": "stream",
     "text": [
      "MAP:  31.462994388777553\n",
      "MAP lambda = 20:  20.0\n"
     ]
    },
    {
     "data": {
      "image/png": "[encoded data removed]",
      "text/plain": [
       "<Figure size 864x576 with 1 Axes>"
      ]
     },
     "metadata": {
      "needs_background": "light"
     },
     "output_type": "display_data"
    }
   ],
   "source": [
    "ls = np.linspace(0.0001, 100, 500)\n",
    "P = np.exp(log_like(data_b, ls))\n",
    "Z = P.sum() * 100 / 500\n",
    "P /= Z\n",
    "\n",
    "plt.plot(ls, P)\n",
    "\n",
    "# print('MAP: ', data_b.sum()/len(data_b)) # 31.4\n",
    "print('MAP: ', ls[np.argmax(log_like(data_b, ls))])\n",
    "ls_twenty = np.linspace(0.0001, 20, 500)\n",
    "print('MAP lambda = 20: ', ls_twenty[np.argmax(log_like(data_b, ls_twenty))])"
   ]
  },
  {
   "cell_type": "markdown",
   "id": "9cfb8112-af90-4864-9d54-be027714b969",
   "metadata": {},
   "source": [
    "### 2"
   ]
  },
  {
   "cell_type": "markdown",
   "id": "2e5fdb90-12b7-4e1b-a29d-2e895bec86bc",
   "metadata": {},
   "source": [
    "Implement the formula for likelihood and then for posterior distribution of $\\lambda_b$.  Plot the posterior distribution for $\\lambda_b$ using 1,2,5,10 and 15 measurments. Use numerical integration for normalization. __Hint__ Use the log-likelihood to deal with numerical issues. "
   ]
  },
  {
   "cell_type": "code",
   "execution_count": 13,
   "id": "e9d71094",
   "metadata": {},
   "outputs": [],
   "source": [
    "def log_posterior(ls, prior_ls, kb):\n",
    "    like = log_like(kb, ls) * prior_ls\n",
    "    like -= like.max()\n",
    "    like -= np.log(np.sum(np.exp(like)))\n",
    "    return like"
   ]
  },
  {
   "cell_type": "code",
   "execution_count": 14,
   "id": "9e2de131",
   "metadata": {},
   "outputs": [
    {
     "data": {
      "image/png": "[encoded data removed]",
      "text/plain": [
       "<Figure size 864x576 with 1 Axes>"
      ]
     },
     "metadata": {
      "needs_background": "light"
     },
     "output_type": "display_data"
    }
   ],
   "source": [
    "ls = np.linspace(0, 100, 500)[1:]\n",
    "lambda_values = (1, 2, 5, 10, 15)\n",
    "posts_dist = []\n",
    "for n in lambda_values:\n",
    "    exp_posterior = np.exp(log_posterior(ls, 1, data_b[:n]))\n",
    "    posts_dist.append(exp_posterior)\n",
    "    plt.plot(ls, exp_posterior, label = str(n))\n",
    "plt.legend();"
   ]
  },
  {
   "cell_type": "markdown",
   "id": "faca8e9c-df8e-4650-b494-b805cf132c15",
   "metadata": {},
   "source": [
    "### 3"
   ]
  },
  {
   "cell_type": "markdown",
   "id": "3c98a0c9-bab5-4a8d-84d8-178108e6e0e6",
   "metadata": {},
   "source": [
    "Calculate the mean and standard deviation of each posterior distribution plotted."
   ]
  },
  {
   "cell_type": "code",
   "execution_count": 15,
   "id": "902ade78",
   "metadata": {},
   "outputs": [
    {
     "name": "stdout",
     "output_type": "stream",
     "text": [
      "Mean:  31.999999999999964 Standard deviation:  5.656854249492125\n",
      "Mean:  32.5 Standard deviation:  4.031128874149276\n",
      "Mean:  31.799999999999997 Standard deviation:  2.5219040425837087\n",
      "Mean:  31.700000000000003 Standard deviation:  1.7804493814764988\n",
      "Mean:  31.46666666666667 Standard deviation:  1.4483707321600414\n"
     ]
    }
   ],
   "source": [
    "for n in lambda_values:\n",
    "    exp_posterior = np.exp(log_posterior(ls, 1, data_b[:n]))\n",
    "    mean = np.sum(exp_posterior / np.sum(exp_posterior) * ls)\n",
    "    std = np.sqrt(np.sum(pow(ls - mean, 2) * exp_posterior / np.sum(exp_posterior)))\n",
    "    print('Mean: ', mean, 'Standard deviation: ', std)"
   ]
  },
  {
   "cell_type": "markdown",
   "id": "e625d867-e597-4d4c-8be5-e16d890f5846",
   "metadata": {},
   "source": [
    "## Problem 3"
   ]
  },
  {
   "cell_type": "markdown",
   "id": "bcd2f388-ab95-4710-9dfa-f500602f4684",
   "metadata": {},
   "source": [
    "Implement the log-likelihood for $\\lambda_b$ and $\\lambda_s$ using source plus background data. Then implement the log-posterior for those variables. Use the posterior from the previous problem as $\\lambda_b$ prior (using all the data). Use the uniform distribution on $(0,100)$ for $\\lambda_s$ prior. Plot the resulting two dimensional function and find the MAP estimates for $\\lambda_b$ and $\\lambda_s$ for 1,2,3 and 10 measurments of signal and background. "
   ]
  },
  {
   "cell_type": "code",
   "execution_count": null,
   "id": "0228f4c1",
   "metadata": {},
   "outputs": [],
   "source": [
    "\n",
    "    "
   ]
  },
  {
   "cell_type": "markdown",
   "id": "532be5d3-f781-48e9-bdd3-aec171a371f3",
   "metadata": {},
   "source": [
    "How will the estimates change if a friend tells us that he is sure that the source activity is less then 15?"
   ]
  }
 ],
 "metadata": {
  "kernelspec": {
   "display_name": "Python 3 (ipykernel)",
   "language": "python",
   "name": "python3"
  },
  "language_info": {
   "codemirror_mode": {
    "name": "ipython",
    "version": 3
   },
   "file_extension": ".py",
   "mimetype": "text/x-python",
   "name": "python",
   "nbconvert_exporter": "python",
   "pygments_lexer": "ipython3",
   "version": "3.8.10"
  }
 },
 "nbformat": 4,
 "nbformat_minor": 5
}
